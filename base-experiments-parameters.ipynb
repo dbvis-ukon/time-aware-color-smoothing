{
 "cells": [
  {
   "cell_type": "markdown",
   "metadata": {},
   "source": [
    "# Install Imports"
   ]
  },
  {
   "cell_type": "code",
   "execution_count": 1,
   "metadata": {},
   "outputs": [
    {
     "output_type": "stream",
     "name": "stdout",
     "text": [
      "Requirement already satisfied: numpy in /home/udo/anaconda3/lib/python3.7/site-packages (1.15.4)\n",
      "Requirement already satisfied: scipy in /home/udo/anaconda3/lib/python3.7/site-packages (1.5.4)\n",
      "Requirement already satisfied: pillow in /home/udo/anaconda3/lib/python3.7/site-packages (8.0.1)\n",
      "Requirement already satisfied: scikit-image in /home/udo/anaconda3/lib/python3.7/site-packages (0.16.1)\n",
      "Requirement already satisfied: matplotlib in /home/udo/anaconda3/lib/python3.7/site-packages (3.3.3)\n",
      "Requirement already satisfied: networkx>=2.0 in /home/udo/anaconda3/lib/python3.7/site-packages (from scikit-image) (2.4)\n",
      "Requirement already satisfied: PyWavelets>=0.4.0 in /home/udo/anaconda3/lib/python3.7/site-packages (from scikit-image) (1.1.1)\n",
      "Requirement already satisfied: imageio>=2.3.0 in /home/udo/anaconda3/lib/python3.7/site-packages (from scikit-image) (2.6.1)\n",
      "Requirement already satisfied: cycler>=0.10 in /home/udo/anaconda3/lib/python3.7/site-packages (from matplotlib) (0.10.0)\n",
      "Requirement already satisfied: kiwisolver>=1.0.1 in /home/udo/anaconda3/lib/python3.7/site-packages (from matplotlib) (1.1.0)\n",
      "Requirement already satisfied: python-dateutil>=2.1 in /home/udo/anaconda3/lib/python3.7/site-packages (from matplotlib) (2.8.1)\n",
      "Requirement already satisfied: pyparsing!=2.0.4,!=2.1.2,!=2.1.6,>=2.0.3 in /home/udo/anaconda3/lib/python3.7/site-packages (from matplotlib) (2.4.5)\n",
      "Requirement already satisfied: decorator>=4.3.0 in /home/udo/anaconda3/lib/python3.7/site-packages (from networkx>=2.0->scikit-image) (4.4.1)\n",
      "Requirement already satisfied: six in /home/udo/anaconda3/lib/python3.7/site-packages (from cycler>=0.10->matplotlib) (1.13.0)\n",
      "Requirement already satisfied: setuptools in /home/udo/anaconda3/lib/python3.7/site-packages (from kiwisolver>=1.0.1->matplotlib) (42.0.2.post20191203)\n"
     ]
    }
   ],
   "source": [
    "import sys\n",
    "!{sys.executable} -m pip install numpy scipy pillow scikit-image matplotlib\n",
    "# works with python 3.7.3 numpy==1.15.4 scipy==1.5.4 scikit-image==0.16.1"
   ]
  },
  {
   "cell_type": "markdown",
   "metadata": {},
   "source": [
    "# Import Modules"
   ]
  },
  {
   "cell_type": "code",
   "execution_count": 2,
   "metadata": {},
   "outputs": [],
   "source": [
    "import numpy as np\n",
    "\n",
    "import scipy.ndimage as ndimage\n",
    "\n",
    "from os.path import join\n",
    "\n",
    "from PIL import Image\n",
    "\n",
    "from skimage import filters\n",
    "from skimage import feature\n",
    "from skimage.color import rgb2gray\n",
    "from skimage.metrics import structural_similarity as ssim\n",
    "\n",
    "import matplotlib.pyplot as plt\n",
    "\n",
    "%matplotlib inline"
   ]
  },
  {
   "cell_type": "markdown",
   "metadata": {},
   "source": [
    "# Define Metrics\n",
    "\n",
    "Root Mean Squared Error   \n",
    "(Wajid, R., Mansoor, A. B., & Pedersen, M. (2014, December). A human perception based performance evaluation of image quality metrics. In International Symposium on Visual Computing (pp. 303-312). Springer, Cham.)\n",
    "  \n",
    "Mean Squared Error   \n",
    "(Wajid, R., Mansoor, A. B., & Pedersen, M. (2014, December). A human perception based performance evaluation of image quality metrics. In International Symposium on Visual Computing (pp. 303-312). Springer, Cham.)\n",
    "  \n",
    "Structural Similarity Index   \n",
    "(Wajid, R., Mansoor, A. B., & Pedersen, M. (2014, December). A human perception based performance evaluation of image quality metrics. In International Symposium on Visual Computing (pp. 303-312). Springer, Cham.)"
   ]
  },
  {
   "cell_type": "code",
   "execution_count": 3,
   "metadata": {},
   "outputs": [],
   "source": [
    "def rmse(src, dst):\n",
    "    return np.sqrt(np.mean(np.square(src - dst)))\n",
    "\n",
    "\n",
    "def mse(src, dst):\n",
    "    return np.linalg.norm(src - dst)\n",
    "\n",
    "\n",
    "def metric(src, dst):\n",
    "    \n",
    "    rms = rmse(src, dst)\n",
    "    ms = mse(src, dst)\n",
    "    sim = ssim(src, dst, multichannel=True)\n",
    "    \n",
    "    return rms, ms, sim"
   ]
  },
  {
   "cell_type": "markdown",
   "metadata": {},
   "source": [
    "# Pooling-based time aware color smoothing\n",
    "\n"
   ]
  },
  {
   "cell_type": "code",
   "execution_count": 4,
   "metadata": {},
   "outputs": [],
   "source": [
    "def running_pooling(matrix, neighbors, frames, steps=2, step_at_two=False):\n",
    "    work_matrix = np.copy(matrix)\n",
    "    return_matrix = np.copy(matrix)\n",
    "\n",
    "    # Set step start\n",
    "    step_idx = 1 if step_at_two else 0\n",
    "    \n",
    "    voting_matrix = [[1 if (i < neighbors / 2 and j <= (i + 1 - step_idx) * steps) or (i == int(neighbors / 2)) or (i > neighbors / 2 and j <= (neighbors - i - step_idx) * steps) else 0 for j in range(frames)] for i in range(neighbors)]\n",
    "    voting_matrix = np.array(voting_matrix).astype('bool')\n",
    "    \n",
    "    # Append ones at top and bottom\n",
    "    work_matrix = np.concatenate((np.ones((int(neighbors / 2), work_matrix.shape[1], work_matrix.shape[2])), work_matrix), axis=0)\n",
    "    work_matrix = np.concatenate((work_matrix, np.ones((int(neighbors / 2), work_matrix.shape[1], work_matrix.shape[2]))), axis=0)\n",
    "    \n",
    "    # Append ones at end\n",
    "    work_matrix = np.append(work_matrix, np.ones((work_matrix.shape[0], frames - 1, work_matrix.shape[2])), axis=1)\n",
    "   \n",
    "    for i in range(work_matrix.shape[1] - frames + 1):\n",
    "        y_work_matrix = work_matrix[:,i:i + frames]\n",
    "        for j in range(y_work_matrix.shape[0] - neighbors + 1):\n",
    "            y_sub_work_matrix = y_work_matrix[j:j + neighbors]\n",
    "            voted_matrix = y_sub_work_matrix[voting_matrix]\n",
    "            voted_matrix = voted_matrix[voted_matrix[:,2].argsort()]\n",
    "            voted_matrix = voted_matrix[voted_matrix[:,1].argsort(kind='mergesort')]\n",
    "            voted_matrix = voted_matrix[voted_matrix[:,0].argsort(kind='mergesort')]\n",
    "            value = np.median(voted_matrix, axis=0)\n",
    "            return_matrix[j, i] = value\n",
    "    \n",
    "    return return_matrix"
   ]
  },
  {
   "cell_type": "markdown",
   "metadata": {},
   "source": [
    "# Gaussian Blur\n",
    "\n",
    "https://docs.scipy.org/doc/scipy/reference/generated/scipy.ndimage.gaussian_filter.html\n",
    "\n"
   ]
  },
  {
   "cell_type": "code",
   "execution_count": 5,
   "metadata": {},
   "outputs": [],
   "source": [
    "def running_gaussian(matrix, sigma):\n",
    "    return_matrix = np.copy(matrix)\n",
    "\n",
    "    for i in range(im2arr.shape[1]):\n",
    "        return_matrix[:,i] = ndimage.gaussian_filter(matrix[:,i], sigma=sigma, order=0)\n",
    "        \n",
    "    return return_matrix"
   ]
  },
  {
   "cell_type": "markdown",
   "metadata": {},
   "source": [
    "# Load Spatial Rug\n",
    "\n",
    " - Load image data\n",
    " - Transform it to numpy array\n",
    " - Smooth by pooling\n",
    " - Smooth by Gaussian"
   ]
  },
  {
   "cell_type": "code",
   "execution_count": 6,
   "metadata": {},
   "outputs": [],
   "source": [
    "rugs_path = 'rugs/'\n",
    "\n",
    "im = Image.open(rugs_path + 'originalspatialrug.png')\n",
    "im2arr = np.array(im)\n",
    "arr2im = Image.fromarray(im2arr)"
   ]
  },
  {
   "cell_type": "markdown",
   "metadata": {},
   "source": [
    "# Results"
   ]
  },
  {
   "cell_type": "code",
   "execution_count": 40,
   "metadata": {},
   "outputs": [
    {
     "output_type": "stream",
     "name": "stdout",
     "text": [
      "Amount of experiments 20\n",
      "Done with experiment 20 "
     ]
    }
   ],
   "source": [
    "pooling_config = [\n",
    "    [9, 9, 2],\n",
    "    [11, 9, 2],\n",
    "    [13, 9, 2],\n",
    "    [15, 9, 2],\n",
    "    [17, 9, 2],\n",
    "    \n",
    "    [9, 15, 2],\n",
    "    [11, 15, 2],\n",
    "    [13, 15, 2],\n",
    "    [15, 15, 2],\n",
    "    [17, 15, 2],\n",
    "    \n",
    "    [9, 17, 2],\n",
    "    [11, 17, 2],\n",
    "    [13, 17, 2],\n",
    "    [15, 17, 2],\n",
    "    [17, 17, 2],\n",
    "    \n",
    "    [9, 9, 9],\n",
    "    [11, 11, 11],\n",
    "    [13, 13, 13],\n",
    "    [15, 15, 15],\n",
    "    [17, 17, 17]\n",
    "]\n",
    "\n",
    "print('Amount of experiments', len(pooling_config))\n",
    "\n",
    "pooling_results = []\n",
    "\n",
    "for i, conf in enumerate(pooling_config):\n",
    "    im2arr_neighbor = np.copy(im2arr)\n",
    "    im2arr_neighbor = running_pooling(im2arr_neighbor, conf[0], conf[1], conf[2])\n",
    "    metric_res = metric(im2arr, im2arr_neighbor)\n",
    "    \n",
    "    pooling_results.append([im2arr_neighbor, metric_res, conf])\n",
    "\n",
    "    print('\\rDone with experiment', i + 1, end=' ')"
   ]
  },
  {
   "cell_type": "code",
   "execution_count": 52,
   "metadata": {},
   "outputs": [],
   "source": [
    "gaussian_config = [\n",
    "    (1, 0),\n",
    "    (2, 0),\n",
    "    (3, 0),\n",
    "    (4, 0),\n",
    "    (5, 0),\n",
    "    (6, 0),\n",
    "    (7, 0),\n",
    "    (8, 0),\n",
    "    (9, 0)\n",
    "]\n",
    "\n",
    "gaussian_results = []\n",
    "\n",
    "for conf in gaussian_config:\n",
    "    im2arr_smooth = np.copy(im2arr)\n",
    "    for i in range(im2arr.shape[1]):\n",
    "        im2arr_smooth[:,i] = ndimage.gaussian_filter(im2arr[:,i], sigma=conf)\n",
    "        \n",
    "    metric_res = metric(im2arr, im2arr_smooth)\n",
    "    gaussian_results.append([im2arr_smooth, metric_res, conf])"
   ]
  },
  {
   "cell_type": "code",
   "execution_count": 53,
   "metadata": {},
   "outputs": [
    {
     "output_type": "stream",
     "name": "stdout",
     "text": [
      "261792 40208 orig\n"
     ]
    }
   ],
   "source": [
    "results_path = 'results'\n",
    "edges_result_path = join(results_path, 'edges')\n",
    "os.makedirs(edges_result_path, exist_ok=True)\n",
    "\n",
    "grayscale = rgb2gray(im2arr)\n",
    "edges = feature.canny(grayscale)\n",
    "\n",
    "unique, counts = np.unique(edges, return_counts=True)\n",
    "counts_matrix = np.asarray((unique, counts)).T\n",
    "print(counts_matrix[0][1], counts_matrix[1][1], 'orig')\n",
    "\n",
    "name = 'edges-orig-pixels-' + str(counts_matrix[1][1]) + '-'\n",
    "name = join(edges_result_path, name) + '.png'\n",
    "\n",
    "Image.fromarray(edges).save(name, 'PNG')"
   ]
  },
  {
   "cell_type": "code",
   "execution_count": 51,
   "metadata": {},
   "outputs": [
    {
     "output_type": "stream",
     "name": "stdout",
     "text": [
      "281144 20856 [9, 9, 2]\n",
      "285239 16761 [11, 9, 2]\n",
      "288280 13720 [13, 9, 2]\n",
      "290198 11802 [15, 9, 2]\n",
      "291687 10313 [17, 9, 2]\n",
      "280500 21500 [9, 15, 2]\n",
      "283948 18052 [11, 15, 2]\n",
      "286787 15213 [13, 15, 2]\n",
      "288489 13511 [15, 15, 2]\n",
      "289989 12011 [17, 15, 2]\n",
      "280990 21010 [9, 17, 2]\n",
      "283874 18126 [11, 17, 2]\n",
      "286444 15556 [13, 17, 2]\n",
      "288533 13467 [15, 17, 2]\n",
      "289698 12302 [17, 17, 2]\n",
      "285541 16459 [9, 9, 9]\n",
      "288740 13260 [11, 11, 11]\n",
      "290562 11438 [13, 13, 13]\n",
      "292588 9412 [15, 15, 15]\n",
      "293573 8427 [17, 17, 17]\n"
     ]
    }
   ],
   "source": [
    "for i, img in enumerate(pooling_results):\n",
    "    grayscale = rgb2gray(img[0])\n",
    "    edges = feature.canny(grayscale)\n",
    "\n",
    "    unique, counts = np.unique(edges, return_counts=True)\n",
    "    counts_matrix = np.asarray((unique, counts)).T\n",
    "    print(counts_matrix[0][1], counts_matrix[1][1], img[2])\n",
    "\n",
    "    name = 'edges-tacs-pixels-' + str(counts_matrix[1][1]) + '-' + '-'.join([str(x) for x in img[2]])\n",
    "    name = join(edges_result_path, name) + '.png'\n",
    "    \n",
    "    Image.fromarray(edges).save(name, 'PNG')\n"
   ]
  },
  {
   "cell_type": "code",
   "execution_count": 54,
   "metadata": {},
   "outputs": [
    {
     "output_type": "stream",
     "name": "stdout",
     "text": [
      "271253 30747 (1, 0)\n",
      "283658 18342 (2, 0)\n",
      "292077 9923 (3, 0)\n",
      "296288 5712 (4, 0)\n",
      "298982 3018 (5, 0)\n",
      "300758 1242 (6, 0)\n",
      "301408 592 (7, 0)\n",
      "301668 332 (8, 0)\n",
      "301840 160 (9, 0)\n"
     ]
    }
   ],
   "source": [
    "for i, img in enumerate(gaussian_results):\n",
    "    grayscale = rgb2gray(img[0])\n",
    "    edges = feature.canny(grayscale)\n",
    "\n",
    "    unique, counts = np.unique(edges, return_counts=True)\n",
    "    counts_matrix = np.asarray((unique, counts)).T\n",
    "    print(counts_matrix[0][1], counts_matrix[1][1], img[2])\n",
    "\n",
    "    name = 'edges-gaussian-pixels-' + str(counts_matrix[1][1]) + '-' + '-'.join([str(x) for x in img[2]])\n",
    "    name = join(edges_result_path, name) + '.png'\n",
    "    \n",
    "    Image.fromarray(edges).save(name, 'PNG')\n"
   ]
  },
  {
   "cell_type": "code",
   "execution_count": 55,
   "metadata": {},
   "outputs": [],
   "source": [
    "im2 = Image.open(rugs_path + 'originalspatialrug-case3.png')\n",
    "im2arr2 = np.array(im2)\n",
    "arr2im2 = Image.fromarray(im2arr2)"
   ]
  },
  {
   "cell_type": "code",
   "execution_count": 56,
   "metadata": {},
   "outputs": [
    {
     "output_type": "stream",
     "name": "stdout",
     "text": [
      "85683 3517 orig\n"
     ]
    }
   ],
   "source": [
    "grayscale = rgb2gray(im2arr2)\n",
    "edges = feature.canny(grayscale)\n",
    "\n",
    "unique, counts = np.unique(edges, return_counts=True)\n",
    "counts_matrix = np.asarray((unique, counts)).T\n",
    "print(counts_matrix[0][1], counts_matrix[1][1], 'orig')\n",
    "\n",
    "name = 'edges-orig-case3-pixels-' + str(counts_matrix[1][1]) + '-'\n",
    "name = join(edges_result_path, name) + '.png'\n",
    "\n",
    "Image.fromarray(edges).save(name, 'PNG')"
   ]
  },
  {
   "cell_type": "code",
   "execution_count": 60,
   "metadata": {},
   "outputs": [
    {
     "output_type": "stream",
     "name": "stdout",
     "text": [
      "86128 3072 [9, 9, 2]\n",
      "86208 2992 [11, 9, 2]\n",
      "86438 2762 [13, 9, 2]\n",
      "86957 2243 [15, 9, 2]\n",
      "87110 2090 [17, 9, 2]\n",
      "86197 3003 [9, 15, 2]\n",
      "86431 2769 [11, 15, 2]\n",
      "86782 2418 [13, 15, 2]\n",
      "87204 1996 [15, 15, 2]\n",
      "87123 2077 [17, 15, 2]\n",
      "86237 2963 [9, 17, 2]\n",
      "86577 2623 [11, 17, 2]\n",
      "86775 2425 [13, 17, 2]\n",
      "87256 1944 [15, 17, 2]\n",
      "87104 2096 [17, 17, 2]\n",
      "86284 2916 [9, 9, 9]\n",
      "86521 2679 [11, 11, 11]\n",
      "87039 2161 [13, 13, 13]\n",
      "87195 2005 [15, 15, 15]\n",
      "87308 1892 [17, 17, 17]\n"
     ]
    }
   ],
   "source": [
    "for i, conf in enumerate(pooling_config):\n",
    "    im2arr_neighbor = np.copy(im2arr2)\n",
    "    im2arr_neighbor = running_pooling(im2arr_neighbor, conf[0], conf[1], conf[2])\n",
    "    metric_res = metric(im2arr2, im2arr_neighbor)\n",
    "\n",
    "    grayscale = rgb2gray(im2arr_neighbor)\n",
    "    edges = feature.canny(grayscale)\n",
    "\n",
    "    unique, counts = np.unique(edges, return_counts=True)\n",
    "    counts_matrix = np.asarray((unique, counts)).T\n",
    "    print(counts_matrix[0][1], counts_matrix[1][1], conf)\n",
    "\n",
    "    name = 'edges-tacs-case3-pixels-' + str(counts_matrix[1][1]) + '-' + '-'.join([str(x) for x in conf])\n",
    "    name = join(edges_result_path, name) + '.png'\n",
    "    \n",
    "    Image.fromarray(edges).save(name, 'PNG')\n",
    "\n",
    "    name = 'true-tacs-case3-pixels-' + str(counts_matrix[1][1]) + '-' + '-'.join([str(x) for x in conf])\n",
    "    name = join(edges_result_path, name) + '.png'\n",
    "    \n",
    "    Image.fromarray(im2arr_neighbor).save(name, 'PNG')"
   ]
  },
  {
   "cell_type": "code",
   "execution_count": 61,
   "metadata": {},
   "outputs": [
    {
     "output_type": "stream",
     "name": "stdout",
     "text": [
      "86007 3193 (1, 0)\n",
      "86686 2514 (2, 0)\n",
      "87723 1477 (3, 0)\n",
      "88090 1110 (4, 0)\n",
      "88141 1059 (5, 0)\n",
      "88277 923 (6, 0)\n",
      "88260 940 (7, 0)\n",
      "88219 981 (8, 0)\n",
      "88291 909 (9, 0)\n"
     ]
    }
   ],
   "source": [
    "for conf in gaussian_config:\n",
    "    im2arr_smooth = np.copy(im2arr2)\n",
    "    for i in range(im2arr2.shape[1]):\n",
    "        im2arr_smooth[:,i] = ndimage.gaussian_filter(im2arr2[:,i], sigma=conf)\n",
    "    metric_res = metric(im2arr2, im2arr_smooth)\n",
    "\n",
    "    grayscale = rgb2gray(im2arr_smooth)\n",
    "    edges = feature.canny(grayscale)\n",
    "\n",
    "    unique, counts = np.unique(edges, return_counts=True)\n",
    "    counts_matrix = np.asarray((unique, counts)).T\n",
    "    print(counts_matrix[0][1], counts_matrix[1][1], conf)\n",
    "\n",
    "    name = 'edges-gaussian-case3-pixels-' + str(counts_matrix[1][1]) + '-' + '-'.join([str(x) for x in conf])\n",
    "    name = join(edges_result_path, name) + '.png'\n",
    "    \n",
    "    Image.fromarray(edges).save(name, 'PNG')\n",
    "\n",
    "    name = 'true-gaussian-case3-pixels-' + str(counts_matrix[1][1]) + '-' + '-'.join([str(x) for x in conf])\n",
    "    name = join(edges_result_path, name) + '.png'\n",
    "    \n",
    "    Image.fromarray(im2arr_smooth).save(name, 'PNG')"
   ]
  },
  {
   "cell_type": "code",
   "execution_count": null,
   "metadata": {},
   "outputs": [],
   "source": []
  }
 ],
 "metadata": {
  "kernelspec": {
   "name": "python3",
   "display_name": "Python 3.7.3 64-bit ('vscode': conda)",
   "metadata": {
    "interpreter": {
     "hash": "63a2bafcddf61d5573f448d1fca1723f93b1028082ca65e893f23d8c4ebe9bb2"
    }
   }
  },
  "language_info": {
   "codemirror_mode": {
    "name": "ipython",
    "version": 3
   },
   "file_extension": ".py",
   "mimetype": "text/x-python",
   "name": "python",
   "nbconvert_exporter": "python",
   "pygments_lexer": "ipython3",
   "version": "3.7.3-final"
  }
 },
 "nbformat": 4,
 "nbformat_minor": 4
}